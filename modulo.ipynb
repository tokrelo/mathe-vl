{
 "cells": [
  {
   "cell_type": "markdown",
   "metadata": {},
   "source": [
    "# Rechnen modulo m\n",
    "\n",
    "### Generelles:\n",
    "* Diese Aufgaben dienen dazu, den Vorlesungsstoff von Mathematik für Informatiker 2 zu vertiefen. Sie ergänzen die gemischten Übungen.\n",
    "* Die Aufgaben sind in Python gestellt. Auch wenn Ihnen diese Sprache nicht aus einer Vorlesung vertraut ist, sollten Sie schnell in der Lage sein die für die Aufgaben benötigten Elemente zu lernen. Sie werden sehen, dass Python Ihnen an vielen Stellen das Leben sehr leicht macht.\n",
    "* Alle Stellen, an denen Sie Code schreiben sollen, sind mit TODO gekennzeichnet\n",
    "* Wir verwenden sehr häufig die mathematischen Operationen aus den Paketen NumPy, SciPy und plotting mit matplotlib. Die Einbindung dieser Pakete sollten Sie immer als erstes in einem Notebook ausführen, um alle benötigten Klassen und Methoden zur Verfügung zu haben."
   ]
  },
  {
   "cell_type": "code",
   "execution_count": 19,
   "metadata": {},
   "outputs": [],
   "source": [
    "import numpy as np\n",
    "import pylab as plt\n",
    "import scipy as sp"
   ]
  },
  {
   "cell_type": "markdown",
   "metadata": {},
   "source": [
    "### Erste Schritte\n",
    "In Python ist der Modulo-Operator das Prozent-Zeichen.\n",
    "Berechnen Sie im folgenden, in welche Restklasse modulo 26 die Zahlen gehören, indem Sie jeweils das Ergebnis von x % 26 ausgeben."
   ]
  },
  {
   "cell_type": "code",
   "execution_count": 20,
   "metadata": {},
   "outputs": [
    {
     "data": {
      "text/plain": [
       "4"
      ]
     },
     "execution_count": 20,
     "metadata": {},
     "output_type": "execute_result"
    }
   ],
   "source": [
    "4 % 26"
   ]
  },
  {
   "cell_type": "code",
   "execution_count": 21,
   "metadata": {},
   "outputs": [
    {
     "data": {
      "text/plain": [
       "5"
      ]
     },
     "execution_count": 21,
     "metadata": {},
     "output_type": "execute_result"
    }
   ],
   "source": [
    "31 % 26"
   ]
  },
  {
   "cell_type": "code",
   "execution_count": 22,
   "metadata": {},
   "outputs": [
    {
     "data": {
      "text/plain": [
       "25"
      ]
     },
     "execution_count": 22,
     "metadata": {},
     "output_type": "execute_result"
    }
   ],
   "source": [
    "-1 % 26"
   ]
  },
  {
   "cell_type": "markdown",
   "metadata": {},
   "source": [
    "Schreiben Sie jetzt eine Funktion `congruent(a, b, m)` , die überprüft, ob zwei Zahlen a und b kongruent modulo m sind.\n",
    "\n",
    "Hinweis: in Python sind die beiden Booleschen Werte `True` und `False`"
   ]
  },
  {
   "cell_type": "code",
   "execution_count": 49,
   "metadata": {},
   "outputs": [
    {
     "name": "stdout",
     "output_type": "stream",
     "text": [
      "False (erwartet: True)\n",
      "False (erwartet: True)\n",
      "False (erwartet: False)\n"
     ]
    }
   ],
   "source": [
    "def congruent(a, b, m):\n",
    "    # TODO: implement function\n",
    "    return False\n",
    "\n",
    "\n",
    "print(congruent(1, 5, 4), \"(erwartet: True)\")\n",
    "print(congruent(1, 27, 26), \"(erwartet: True)\")\n",
    "print(congruent(1, 46, 26), \"(erwartet: False)\")"
   ]
  },
  {
   "cell_type": "markdown",
   "metadata": {},
   "source": [
    "### Caesar Verschlüsselung\n",
    "Vervollständigen Sie die Funktion `encrypt(message, key)`, die eine Caesar-Verschlüsselung durchführt. Denken Sie daran, dass alle Zahlen mod 26 zu rechnen sind.\n",
    "\n",
    "Beispiel: Wenn Sie den String \"Hallo Welt\" mit key 4 verschlüsseln, sollte als Ergebnis \"LEPPS AIPX\" herauskommen."
   ]
  },
  {
   "cell_type": "code",
   "execution_count": 50,
   "metadata": {},
   "outputs": [
    {
     "data": {
      "text/plain": [
       "'HALLO WELT'"
      ]
     },
     "execution_count": 50,
     "metadata": {},
     "output_type": "execute_result"
    }
   ],
   "source": [
    "def letter_to_number(c):\n",
    "    return ord(c.upper()) - 65\n",
    "\n",
    "\n",
    "def number_to_letter(n):\n",
    "    return chr(n + 65)\n",
    "\n",
    "\n",
    "def caesar_encrypt(message, key):\n",
    "    ciphertext = \"\"  # empty string\n",
    "    for c in message:\n",
    "        if c == \" \":\n",
    "            ciphertext += \" \"\n",
    "        else:\n",
    "            n = letter_to_number(c)\n",
    "            # TODO: Fuegen Sie hier die Verschluesselungsvorschrift ein!\n",
    "            ciphertext += number_to_letter(n)\n",
    "    return ciphertext\n",
    "\n",
    "\n",
    "caesar_encrypt(\"Hallo Welt\", 4)"
   ]
  },
  {
   "cell_type": "markdown",
   "metadata": {},
   "source": [
    "Schreiben Sie jetzt die zugehörige Entschlüsselungsfunktion. Dafür müssen Sie die Verschlüsselungsoperation $a + b$ mod $m$ rückgängig machen, indem Sie das additive Inverse von $b$ addieren."
   ]
  },
  {
   "cell_type": "code",
   "execution_count": 51,
   "metadata": {},
   "outputs": [
    {
     "data": {
      "text/plain": [
       "'LEPPS AIPX'"
      ]
     },
     "execution_count": 51,
     "metadata": {},
     "output_type": "execute_result"
    }
   ],
   "source": [
    "def caesar_decrypt(ciphertext, key):\n",
    "    message = \"\"\n",
    "    for c in ciphertext:\n",
    "        if c == \" \":\n",
    "            message += \" \"\n",
    "        else:\n",
    "            n = letter_to_number(c)\n",
    "            # TODO: Fuegen Sie hier die Entschluesselungsvorschrift ein!\n",
    "            message += number_to_letter(n)\n",
    "    return message\n",
    "\n",
    "\n",
    "caesar_decrypt(\"LEPPS AIPX\", 4)"
   ]
  },
  {
   "cell_type": "markdown",
   "metadata": {},
   "source": [
    "### GGT Berechnung\n",
    "Implementieren Sie die Funktion `ggT(a,b)`, die den größten gemeinsamen Teiler zweier Zahlen $a$ und $b$ berechnet. Verwenden Sie dazu den in der Vorlesung besprochenen Eukldischen Algorithmus.\n",
    "\n",
    "Vermutlich fällt es Ihnen am leichtesten, zunächst eine rekursive Funktion zu implementieren. Können Sie auch alternativ eine Variante mit Schleifen realisieren?"
   ]
  },
  {
   "cell_type": "code",
   "execution_count": 52,
   "metadata": {},
   "outputs": [
    {
     "name": "stdout",
     "output_type": "stream",
     "text": [
      "1 (should be 1)\n",
      "2 (should be 2)\n",
      "1 (should be 1)\n",
      "2 (should be 2)\n",
      "5 (should be 5)\n"
     ]
    },
    {
     "data": {
      "text/plain": [
       "7"
      ]
     },
     "execution_count": 52,
     "metadata": {},
     "output_type": "execute_result"
    }
   ],
   "source": [
    "def ggT(a, b):\n",
    "    \"\"\"Compute the greatest commond divisor of a and b\"\"\"\n",
    "    # TODO: Implementieren Sie die Funktion\n",
    "    return 0\n",
    "\n",
    "\n",
    "print(ggT(10, 1), \"(should be 1)\")\n",
    "print(ggT(10, 2), \"(should be 2)\")\n",
    "print(ggT(10, 3), \"(should be 1)\")\n",
    "print(ggT(10, 4), \"(should be 2)\")\n",
    "print(ggT(10, 5), \"(should be 5)\")\n",
    "\n",
    "ggT(217, 63)"
   ]
  },
  {
   "cell_type": "markdown",
   "metadata": {},
   "source": [
    "### Erweiterter ggT-Algorithmus\n",
    "Implementieren Sie jetzt den erweiterten Euklidischen ggT-Algorithmus. Rückgabe sind die zwei Zahlen $x_0$ und $y_0$.\n",
    "\n",
    "Hinweis: in Python können Sie mehrere Ergebnisse aus einer Funktion durch Komma getrennt zurückgeben. Sie erhalten als Rückgabetyp dann ein sog. Tupel, auf dessen Elemente Sie mit `result[0]`, `result[1]`, etc. zugreifen können."
   ]
  },
  {
   "cell_type": "code",
   "execution_count": 55,
   "metadata": {},
   "outputs": [
    {
     "name": "stdout",
     "output_type": "stream",
     "text": [
      "(-2, 7) (Erwartetes Ergebnis: (-2, 7))\n"
     ]
    }
   ],
   "source": [
    "def EggT(a, b, x=1, xx=0, y=0, yy=1):\n",
    "    \"\"\"Compute x_0 and y_0 so that t = ggT(a,b) = a*x_0 + b*y_0\"\"\"\n",
    "    # TODO: Implementieren Sie die Funktion\n",
    "    return 0,0\n",
    "\n",
    "\n",
    "print(EggT(217, 63), \"(Erwartetes Ergebnis: (-2, 7))\")"
   ]
  },
  {
   "cell_type": "markdown",
   "metadata": {},
   "source": [
    "### Multiplikative Inverse\n",
    "Sie können den EggT-Algorithmus wie in der Vorlesung besprochen zur effizienten Berechnung der multiplikativen Inversen benutzen. Schreiben Sie also eine Funktion, die die  multiplikative Inverse unter Verwendung der oben definierten Funktion EggT berechnet."
   ]
  },
  {
   "cell_type": "code",
   "execution_count": 58,
   "metadata": {},
   "outputs": [
    {
     "name": "stdout",
     "output_type": "stream",
     "text": [
      "17 26 442 1\n"
     ]
    }
   ],
   "source": [
    "def multiplicative_inverse(a, m):\n",
    "    \"\"\"Compute the multiplicative inverse of a mod m\"\"\"\n",
    "    #TODO: implementieren Sie die Funktion\n",
    "    return 0\n",
    "\n",
    "\n",
    "a = 17\n",
    "m = 63\n",
    "x = multiplicative_inverse(a, m)\n",
    "\n",
    "# Now, verify that a*x mod m should be 1!\n",
    "print(a, x, a * x, a * x % m)"
   ]
  }
 ],
 "metadata": {
  "kernelspec": {
   "display_name": "Python 3",
   "language": "python",
   "name": "python3"
  },
  "language_info": {
   "codemirror_mode": {
    "name": "ipython",
    "version": 3
   },
   "file_extension": ".py",
   "mimetype": "text/x-python",
   "name": "python",
   "nbconvert_exporter": "python",
   "pygments_lexer": "ipython3",
   "version": "3.11.6"
  }
 },
 "nbformat": 4,
 "nbformat_minor": 2
}
